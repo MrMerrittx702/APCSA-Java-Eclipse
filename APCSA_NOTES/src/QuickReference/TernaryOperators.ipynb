{
 "cells": [
  {
   "cell_type": "markdown",
   "metadata": {},
   "source": [
    "# Ternary Operators"
   ]
  },
  {
   "cell_type": "markdown",
   "metadata": {},
   "source": [
    "* Ternary Operators are a shorthand if else statment\n",
    "* Should only be used for simple conditionals\n",
    "\n",
    "syntax:\n",
    "\n",
    "    condition ? expression_if_True : expression_if_False;"
   ]
  },
  {
   "cell_type": "markdown",
   "metadata": {},
   "source": [
    "**APCSA FRQ NOTE**\n",
    "* DO NOT use these. They don't make you smart they make code hard to read.\n"
   ]
  },
  {
   "cell_type": "code",
   "execution_count": null,
   "metadata": {
    "vscode": {
     "languageId": "java"
    }
   },
   "outputs": [],
   "source": [
    "int x = 5; \n",
    "int y = 10;\n",
    "\n",
    "(x > y) ? x : y; //Returns: 10"
   ]
  },
  {
   "cell_type": "code",
   "execution_count": null,
   "metadata": {
    "vscode": {
     "languageId": "java"
    }
   },
   "outputs": [],
   "source": [
    "boolean isHappy = true;\n",
    "\n",
    "isHappy ? \"I'm happy!\" : \"I'm not happy.\"; // Returns: I'm Happy"
   ]
  },
  {
   "cell_type": "code",
   "execution_count": null,
   "metadata": {
    "vscode": {
     "languageId": "java"
    }
   },
   "outputs": [],
   "source": [
    " int number = 7;\n",
    "\n",
    "(number % 2 == 0) ? \"Even\" : \"Odd\"; // Returns: Odd"
   ]
  },
  {
   "cell_type": "code",
   "execution_count": null,
   "metadata": {
    "vscode": {
     "languageId": "java"
    }
   },
   "outputs": [],
   "source": [
    "int temperature = 25;\n",
    "\n",
    "(temperature > 30) ? \"Hot\" : \"Moderate\"; // Returns: Moderate"
   ]
  },
  {
   "cell_type": "markdown",
   "metadata": {},
   "source": [
    "**Why ternary operators are a bad idea for complex conditionals**"
   ]
  },
  {
   "cell_type": "code",
   "execution_count": null,
   "metadata": {
    "vscode": {
     "languageId": "java"
    }
   },
   "outputs": [],
   "source": [
    "\n",
    "int x = 10;\n",
    "int y = 5;\n",
    "\n",
    "(x > 0) ? (y > 0) ? \"x and y are both positive\" : \"x is positive, y is non-positive\": (y > 0) ? \"x is non-positive, y is positive\" : \"x and y are both non-positive\";\n",
    "\n",
    "// This is not easy to read and evaluate\n"
   ]
  }
 ],
 "metadata": {
  "language_info": {
   "name": "python"
  }
 },
 "nbformat": 4,
 "nbformat_minor": 2
}
