{
 "cells": [
  {
   "cell_type": "markdown",
   "metadata": {},
   "source": [
    "# String Class\n"
   ]
  },
  {
   "cell_type": "markdown",
   "metadata": {},
   "source": [
    "String(String str)  \n",
    "constructs a new String object that represent the same sequence of characters as str"
   ]
  },
  {
   "cell_type": "code",
   "execution_count": null,
   "metadata": {
    "vscode": {
     "languageId": "java"
    }
   },
   "outputs": [],
   "source": [
    "new String(\"Hello World\")"
   ]
  },
  {
   "cell_type": "markdown",
   "metadata": {},
   "source": [
    "int length()  \n",
    "method that returns the number of characters in a String object"
   ]
  },
  {
   "cell_type": "code",
   "execution_count": null,
   "metadata": {
    "vscode": {
     "languageId": "java"
    }
   },
   "outputs": [],
   "source": [
    "\"Hello\".length() //Returns: 5\n",
    "\n",
    "String str = \"Hello\"\n",
    "\n",
    "str.length() //Returns: 5"
   ]
  },
  {
   "cell_type": "markdown",
   "metadata": {},
   "source": [
    "String substring(int from, int to)   \n",
    "Returns a substring beginning at index from and ending at index to - 1"
   ]
  },
  {
   "cell_type": "code",
   "execution_count": null,
   "metadata": {
    "vscode": {
     "languageId": "java"
    }
   },
   "outputs": [],
   "source": [
    "\"Hello\".substring(1,4) // Returns: ell\n",
    "\n",
    "String str = \"Hello\"\n",
    "\n",
    "str.substring(1,4) //Returns: ell"
   ]
  },
  {
   "cell_type": "markdown",
   "metadata": {},
   "source": [
    "String substring(int from)  \n",
    "Returns substring(int from, length())"
   ]
  },
  {
   "cell_type": "code",
   "execution_count": null,
   "metadata": {
    "vscode": {
     "languageId": "java"
    }
   },
   "outputs": [],
   "source": [
    "\"Hello\".substring(2) //Returns: llo\n",
    "\n",
    "String str = \"Hello\"\n",
    "\n",
    "str.substring(2) //Returns: llo"
   ]
  },
  {
   "cell_type": "markdown",
   "metadata": {},
   "source": [
    "int indexOf(String str)   \n",
    "Returns the index of the first occurrence of str; returns -1; if not found"
   ]
  },
  {
   "cell_type": "code",
   "execution_count": null,
   "metadata": {
    "vscode": {
     "languageId": "java"
    }
   },
   "outputs": [],
   "source": [
    "\"Hello\".indexOf(\"e\") //Returns: 1\n",
    "\"Hello\".indexOf(\"x\") //Returns: -1\n",
    "\n",
    "String str = \"Hello\"\n",
    "\n",
    "str.indexOf(\"e\") //Returns: 1 \n",
    "str.indexOf(\"x\") //Returns: -1 "
   ]
  },
  {
   "cell_type": "markdown",
   "metadata": {},
   "source": [
    "boolean equals(String other)   \n",
    "Returns true if this is equal to other "
   ]
  },
  {
   "cell_type": "code",
   "execution_count": null,
   "metadata": {
    "vscode": {
     "languageId": "java"
    }
   },
   "outputs": [],
   "source": [
    "\"Hello\".equals(\"hello\") //Returns: False\n",
    "\n",
    "String hi = \"Hello\"\n",
    "String goodbye = \"Bye\"\n",
    "\n",
    "hi.equals(goodbye) //Returns: False"
   ]
  },
  {
   "cell_type": "markdown",
   "metadata": {},
   "source": [
    "int compareTo(String other)  \n",
    "Returns a value < 0 if this is less than other  \n",
    "Returns zero if this is equal to other  \n",
    "Returns a value > 0 if this is greater than other  \n",
    "\n",
    "'0' == 48; 'A' == 65; 'a' == 97"
   ]
  },
  {
   "cell_type": "code",
   "execution_count": null,
   "metadata": {
    "vscode": {
     "languageId": "java"
    }
   },
   "outputs": [],
   "source": [
    "\"a\".compareTo(\"b\") // Returns: -1\n",
    "\"b\".compareTo(\"a\") // Returns: 1\n",
    "\n",
    "String first = \"cat\"\n",
    "String second = \"cow\"\n",
    "\n",
    "first.compareTo(second) //Returns:  -14  \n",
    "/* 'a' == 97 'o' == 111  thus 97 - 111 == -14 */\n",
    "\n",
    "second.compareTo(first) // Returns: 14\n",
    "/* 'a' == 97 'o' == 111  thus 111 - 97 == 14 */\n"
   ]
  }
 ],
 "metadata": {
  "language_info": {
   "name": "python"
  }
 },
 "nbformat": 4,
 "nbformat_minor": 2
}
