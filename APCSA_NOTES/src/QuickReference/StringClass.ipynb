{
 "cells": [
  {
   "cell_type": "markdown",
   "metadata": {},
   "source": [
    "# String Class\n"
   ]
  },
  {
   "cell_type": "code",
   "execution_count": null,
   "metadata": {
    "vscode": {
     "languageId": "java"
    }
   },
   "outputs": [],
   "source": [
    "// String(String str)\n",
    "// constructs a new String object that represent the same sequence of characters as str\n",
    "\n",
    "new String(\"Hello World\")"
   ]
  },
  {
   "cell_type": "code",
   "execution_count": null,
   "metadata": {
    "vscode": {
     "languageId": "java"
    }
   },
   "outputs": [],
   "source": [
    "// int length()\n",
    "// method that returns the number of characters in a String object\n",
    "\n",
    "\"Hello\".length() //Returns: 5\n",
    "\n",
    "String str = \"Hello\"\n",
    "\n",
    "str.length() //Returns"
   ]
  },
  {
   "cell_type": "code",
   "execution_count": null,
   "metadata": {
    "vscode": {
     "languageId": "java"
    }
   },
   "outputs": [],
   "source": [
    "// String substring(int from, int to) \n",
    "// Returns a substring beginning at index from and ending at index to - 1\n",
    "\n",
    "'Hello'.substring(1,4) // Returns: ell\n",
    "\n",
    "String str = \"Hello\"\n",
    "\n",
    "str.substring(1,4) //Returns: ell"
   ]
  },
  {
   "cell_type": "code",
   "execution_count": null,
   "metadata": {
    "vscode": {
     "languageId": "java"
    }
   },
   "outputs": [],
   "source": [
    "// String substring(int from)\n",
    "// Returns substring(int from, length())\n",
    "\n",
    "\"Hello\".substring(2) //Returns: llo\n",
    "\n",
    "String str = \"Hello\"\n",
    "\n",
    "str.substring(2) //Returns: llo"
   ]
  },
  {
   "cell_type": "code",
   "execution_count": null,
   "metadata": {
    "vscode": {
     "languageId": "java"
    }
   },
   "outputs": [],
   "source": [
    "// int indexOf(String str) \n",
    "// Returns the index of the first occurrence of str; returns -1; if not found\n",
    "\"Hello\".indexOf(\"e\") //Returns: 1\n",
    "\"Hello\".indexOf(\"x\") //Returns: -1\n",
    "\n",
    "String str = \"Hello\"\n",
    "\n",
    "str.indexOf(\"e\") //Returns: 1 \n",
    "str.indexOf(\"x\") //Returns: -1 \n",
    "\n"
   ]
  },
  {
   "cell_type": "code",
   "execution_count": null,
   "metadata": {
    "vscode": {
     "languageId": "java"
    }
   },
   "outputs": [],
   "source": [
    "// boolean equals(String other) \n",
    "// Returns true if this is equal to other \n",
    "\n",
    "\"Hello\".equals(\"hello\") //Returns: False\n",
    "\n",
    "String hi = \"Hello\"\n",
    "String goodbye = \"Bye\"\n",
    "\n",
    "hi.equals(goodbye) //Returns: False\n",
    "\n"
   ]
  },
  {
   "cell_type": "code",
   "execution_count": null,
   "metadata": {
    "vscode": {
     "languageId": "java"
    }
   },
   "outputs": [],
   "source": [
    "// int compareTo(String other)\n",
    "// Returns a value < 0 if this is less than other\n",
    "// Returns zero if this is equal to other\n",
    "// Returns a value > 0 if this is greater than other\n",
    "\n",
    "// '0' == 48; 'A' == 65; 'a' == 97\n",
    "\n",
    "\"a\".compareTo(\"b\") // Returns: -1\n",
    "\"b\".compareTo(\"a\") // Returns: 1\n",
    "\n",
    "String first = \"cat\"\n",
    "String second = \"cow\"\n",
    "\n",
    "first.compareTo(second) //Returns:  -14  \n",
    "// 'a' == 97 'o' == 111  thus 97 - 111 == -14\n",
    "\n",
    "second.compareTo(first) // Returns: 14\n",
    "// 'a' == 97 'o' == 111  thus 111 - 97 == 14\n"
   ]
  }
 ],
 "metadata": {
  "language_info": {
   "name": "python"
  }
 },
 "nbformat": 4,
 "nbformat_minor": 2
}
