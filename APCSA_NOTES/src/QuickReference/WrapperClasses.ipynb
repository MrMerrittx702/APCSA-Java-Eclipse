{
 "cells": [
  {
   "cell_type": "markdown",
   "metadata": {},
   "source": [
    "# Wrapper Classes\n",
    "\n",
    "* Wrapper classes provide and object-oriented representation of primitive data types\n",
    "* The class 'wraps' or encapsulates primitive types into objects\n"
   ]
  },
  {
   "cell_type": "markdown",
   "metadata": {},
   "source": [
    "Why wrapper classes are necessary:\n",
    "* Collections like ArrayList, HashMap, and HashSet store objects not primitives\n",
    "* Generics\n",
    "* Nullable Values (objects can be null primitives cannot)\n",
    "\n",
    "* Methods, wrapper classes provide methods for converting, parsing, and performing operations not available for primitive types\n",
    "\n"
   ]
  },
  {
   "cell_type": "markdown",
   "metadata": {},
   "source": [
    "## Wrapper Classes\n",
    "* The constructors below have been deprecated since version 9 and marked for removal"
   ]
  },
  {
   "cell_type": "code",
   "execution_count": null,
   "metadata": {
    "vscode": {
     "languageId": "java"
    }
   },
   "outputs": [],
   "source": [
    "Integer num = new Integer();\n",
    "Double duo = new Double();\n",
    "Boolean bool = new Boolean();\n",
    "Byte bit = new Byte();\n",
    "Short sho = new Short();\n",
    "Long lon = new Long();\n",
    "Float flo = new Float();\n",
    "Character cha = new Character();"
   ]
  },
  {
   "cell_type": "markdown",
   "metadata": {},
   "source": [
    "## Autoboxing\n",
    "* the automatic conversion that the Java compiler makes between  primitive types and their corresponding object wrapper classes.\n",
    "\n",
    "* occurs when:\n",
    "    * a primitive value is passed as a parameter to a method that expects an object of the corresponding wrapper class\n",
    "    \n",
    "    * a primitive value is assigned to a variable of the corresponding wrapper class\n"
   ]
  },
  {
   "cell_type": "code",
   "execution_count": null,
   "metadata": {
    "vscode": {
     "languageId": "java"
    }
   },
   "outputs": [],
   "source": [
    "    //Integer num = new Integer(8);\n",
    "    Integer num = 8;\n",
    "    //Double duo = new Double(3.1415926535);\n",
    "    Double duo = 3.1415926535;\n",
    "    //Double boo = new Boolean(true);\n",
    "    Boolean boo = true;"
   ]
  },
  {
   "cell_type": "markdown",
   "metadata": {},
   "source": [
    "## Unboxing\n",
    "* the automatic conversion by the Java compiler from the wrapper class to the corresponding primitive type. \n",
    "\n",
    "* occurs when:\n",
    "    * a wrapper class object is passed as a parameter to a method that expects a value of the corresponding primitive type\n",
    "    \n",
    "    * a wrapper class object is assigned to a variable of the corresponding primitive types\n",
    " "
   ]
  },
  {
   "cell_type": "code",
   "execution_count": null,
   "metadata": {
    "vscode": {
     "languageId": "java"
    }
   },
   "outputs": [],
   "source": [
    "    Integer num = new Integer(10);\n",
    "\n",
    "    int unbox = num; // Automatic unbox of num to a primitive int\n",
    " \n",
    "\n",
    "    //manual unbox\n",
    "    int manual = num.intValue();"
   ]
  },
  {
   "cell_type": "markdown",
   "metadata": {},
   "source": [
    "## Examples"
   ]
  },
  {
   "cell_type": "markdown",
   "metadata": {},
   "source": [
    "**Example 1**"
   ]
  },
  {
   "cell_type": "code",
   "execution_count": null,
   "metadata": {
    "vscode": {
     "languageId": "java"
    }
   },
   "outputs": [],
   "source": [
    "Integer a = new Integer(10);//creating an instance of the Integer class\n",
    "\n",
    "Integer b = 15;//Autobox to object\n",
    "\n",
    "int c = 20;//primitive \n",
    "\n",
    "int d = new Integer(25);//unbox to primitive\n",
    "\n",
    "//Autobox and unboxing automatically\n",
    "//                 Unbox   Unbox   primitive   primitive\n",
    "System.out.println(  a   +   b   +     c     +     d     ); //Output: 70\n",
    "\n",
    "//                  Manual Unbox    Manual Unbox   primitive  primitive\n",
    "System.out.println( a.intValue()  + b.intValue()  +   c     +    d     );//Output: 70"
   ]
  },
  {
   "cell_type": "code",
   "execution_count": null,
   "metadata": {
    "vscode": {
     "languageId": "java"
    }
   },
   "outputs": [],
   "source": [
    "Integer a = new Integer(10);//creating an instance of the Integer class\n",
    "Integer b = 15;//Autobox to object\n",
    "int c = 20;//primitive \n",
    "int d = new Integer(25);//unbox to primitive\n",
    "\n",
    "\n",
    "\n",
    "//                 Unbox   Unbox        error           error\n",
    "System.out.println(  a  +   b     +  c.intValue() + d.intValue()); //Object cannot be dereferenced"
   ]
  },
  {
   "cell_type": "markdown",
   "metadata": {},
   "source": [
    "dereferencing is the process of  accessing the value referred to by the object reference  \n",
    "c and d are primitives and not objects"
   ]
  },
  {
   "cell_type": "markdown",
   "metadata": {},
   "source": [
    "**Example 2**"
   ]
  },
  {
   "cell_type": "code",
   "execution_count": null,
   "metadata": {
    "vscode": {
     "languageId": "java"
    }
   },
   "outputs": [],
   "source": [
    "    ArrayList<Integer> autobox = new ArrayList<>();\n",
    "\n",
    "    //Adding primitive by manual boxing\n",
    "    autobox.add(Integer.valueOf(10));\n",
    "\n",
    "    //Adding primitive with autoboxing\n",
    "    autobox.add(20);\n",
    "\n",
    "    System.out.println(autobox);\n",
    "\n",
    "    //Unboxing value at index 0\n",
    "    int num0 = autobox.get(0);\n",
    "    System.out.println(num0);"
   ]
  }
 ],
 "metadata": {
  "language_info": {
   "name": "python"
  }
 },
 "nbformat": 4,
 "nbformat_minor": 2
}
