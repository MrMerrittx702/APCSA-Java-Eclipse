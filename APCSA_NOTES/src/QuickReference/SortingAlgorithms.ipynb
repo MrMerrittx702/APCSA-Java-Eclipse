{
 "cells": [
  {
   "cell_type": "markdown",
   "metadata": {},
   "source": [
    "# Sorting Algorithms\n",
    "* Selection Sort\n",
    "* Insertion Sort\n",
    "* Merge Sort"
   ]
  },
  {
   "cell_type": "markdown",
   "metadata": {},
   "source": [
    "## Selection Sort\n",
    "* takes the first value in the array\n",
    "* Checks that value against each value in the array\n",
    "* If the array value is smaller change the value you are checking to that value\n",
    "* When you reach the end switch the value you have with the value at the beginning"
   ]
  },
  {
   "cell_type": "code",
   "execution_count": null,
   "metadata": {
    "vscode": {
     "languageId": "java"
    }
   },
   "outputs": [],
   "source": [
    "private static void selectionSort (int[] array){\n",
    "    \n",
    "    for(int spot = 0; spot < array.length - 1; spot++){//loop through the array\n",
    "\n",
    "        int minIndex = spot;\n",
    "        \n",
    "        for(int point = spot + 1; point < array.length; point++){//loop array.length times\n",
    "            if(array[point] < array[minIndex]){//check each value in the array when a number is less than the value at minIndex set minIndex as that index . \n",
    "            minIndex = point;\n",
    "            }\n",
    "        }\n",
    "\n",
    "        //swap the index with the smallest value with the value found at \"spot\"\n",
    "        int temp = array[minIndex];\n",
    "        array[minIndex] = array[spot];\n",
    "        array[spot] = temp; \n",
    "    }\n",
    "}\n",
    "\n"
   ]
  },
  {
   "cell_type": "markdown",
   "metadata": {},
   "source": [
    "## Insertion Sort\n",
    "* Start at index 1 because the first value is already sorted with itself\n",
    "* Take the element at 'spot' and store it with the temporary variable 'currentValue'\n",
    "* Assign 'otherSpot' to the index before 'spot' and work backwards through the array\n",
    "* Loop unitl reaching index 0 or the number to be sorted is less than the value it is comparing to.\n",
    "* Shift the current index right in the array\n",
    "* Move to the next index to the left.\n",
    "* Insert the number to be sorted into the index just to the right of the current one."
   ]
  },
  {
   "cell_type": "code",
   "execution_count": null,
   "metadata": {
    "vscode": {
     "languageId": "java"
    }
   },
   "outputs": [],
   "source": [
    "private static void insertionSort(int[] inputArray){//implements insertion sort\n",
    "\n",
    "    for (int spot = 1; spot < inputArray.length; spot++){//spot = 1 because the first value is already sorted with itself\n",
    "      int currentValue = inputArray[spot];//takes the value at index \"spot\" and assigns it to the temporary variable \"currentValue\"\n",
    "      \n",
    "      int otherSpot = spot - 1; //assigns otherSpot to the index before spot (to work backwards through the array)\n",
    "      while( otherSpot >= 0 && inputArray[otherSpot] > currentValue){ //loops until reaching index 0 or the number to be sorted is less than the value its comparing to. \n",
    "        inputArray[otherSpot + 1] = inputArray[otherSpot]; // shifts the current index right in the array\n",
    "        otherSpot--; //moves to the next index left\n",
    "      }\n",
    "      \n",
    "      inputArray[otherSpot + 1] = currentValue; //inserts the number to be sorted into the index just right of the current one.\n",
    "    }\n",
    "\n",
    "  }"
   ]
  },
  {
   "cell_type": "markdown",
   "metadata": {},
   "source": [
    "## Merge Sort\n",
    "* Recursively Break down the array into arrays of length 1\n",
    "* Merge Smaller Arrays into Larger Sorted Arrays\n",
    "* Continue until the orginal array has been sorted."
   ]
  },
  {
   "cell_type": "code",
   "execution_count": null,
   "metadata": {
    "vscode": {
     "languageId": "java"
    }
   },
   "outputs": [],
   "source": [
    "private static void mergeSort(int[] inputArray){\n",
    "    int inputLength = inputArray.length;\n",
    "\n",
    "    if(inputLength < 2){\n",
    "        return;\n",
    "    }\n",
    "\n",
    "    int midIndex = inputLength / 2;\n",
    "    int[] leftHalf = new int[midIndex];\n",
    "    int[] rightHalf = new int[inputLength - midIndex];\n",
    "\n",
    "    for (int spot = 0; spot < midIndex; spot++) {\n",
    "        leftHalf[spot] = inputArray[spot];\n",
    "    }\n",
    "\n",
    "    for (int spot = midIndex; spot < inputLength; spot++) {\n",
    "        rightHalf[spot - midIndex] = inputArray[spot];\n",
    "    }\n",
    "\n",
    "    mergeSort(leftHalf);\n",
    "    mergeSort(rightHalf);\n",
    "\n",
    "    //merge code implemented below\n",
    "    merge(inputArray, leftHalf, rightHalf);\n",
    "}\n",
    "\n",
    "private static void merge(int[] inputArray, int[] leftHalf, int[] rightHalf){ //method for merging the arrays\n",
    "    int leftSize = leftHalf.length;\n",
    "    int rightSize = rightHalf.length;\n",
    "\n",
    "    int leftSpot = 0, rightSpot = 0, spot = 0;\n",
    "    while (leftSpot < leftSize && rightSpot < rightSize){\n",
    "        if (leftHalf[leftSpot] <= rightHalf[rightSpot]){\n",
    "        inputArray[spot] = leftHalf[leftSpot];\n",
    "        leftSpot++;\n",
    "        }else{\n",
    "        inputArray[spot] = rightHalf[rightSpot];\n",
    "        rightSpot++;\n",
    "        }\n",
    "        spot++;\n",
    "    }\n",
    "\n",
    "    while(leftSpot < leftSize){\n",
    "        inputArray[spot] = leftHalf[leftSpot];\n",
    "        leftSpot++;\n",
    "        spot++;\n",
    "    }\n",
    "\n",
    "    while(rightSpot < rightSize){\n",
    "        inputArray[spot] = rightHalf[rightSpot];\n",
    "        rightSpot++;\n",
    "        spot++;\n",
    "    }\n",
    "}"
   ]
  }
 ],
 "metadata": {
  "language_info": {
   "name": "python"
  }
 },
 "nbformat": 4,
 "nbformat_minor": 2
}
