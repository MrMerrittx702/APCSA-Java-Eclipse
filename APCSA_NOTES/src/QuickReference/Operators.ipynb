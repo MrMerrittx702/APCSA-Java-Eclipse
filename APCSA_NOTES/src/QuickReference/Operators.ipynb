{
 "cells": [
  {
   "cell_type": "markdown",
   "metadata": {},
   "source": [
    "# Operators"
   ]
  },
  {
   "cell_type": "markdown",
   "metadata": {
    "vscode": {
     "languageId": "plaintext"
    }
   },
   "source": [
    "#### **Operator Precedence**\n",
    "\n",
    "    General Order of Operations\n",
    "* 1 Arithmetic\n",
    "* 2 Relational\n",
    "* 3 Logical\n",
    "* 4 Assignment  "
   ]
  },
  {
   "cell_type": "markdown",
   "metadata": {},
   "source": [
    "    From first to last: (In general think PEMDAS)\n",
    "*Operators at the same level proceed from left to right unless indicated below*\n",
    "* 1 (), [], new, . , :: \n",
    "* 2 var++ and var--\n",
    "* 3 (right to left)\n",
    "    * unary + or - (automatic conversion to int when type is byte, char, or short)\n",
    "    * unary ! logical NOT\n",
    "    * unary ~ Bitwise NOT\n",
    "    * ++var and --var\n",
    "* 4 (type) Casting (right to left)\n",
    "* 5 *, /, % Multiplication, Division, and Modulus (remainder)\n",
    "* 6 +, - Binary addition and subtraction concatenation \n",
    "* 7 <<, >>, >>> Binary Shifts\n",
    "* 8 <, <=, >, >=, instanceof (Comparison/Relational)\n",
    "* 9 ==, != (Equality)\n",
    "* 10 & Bitwise AND\n",
    "* 11 ^ Bitwise XOR\n",
    "* 12 | Bitwise OR\n",
    "* 13 && Logical AND\n",
    "* 14 || (Or)\n",
    "* 15 ? : (Ternary Conditional)\n",
    "* 16 =, +=, -=, *=, /=, %= (Assignment) (right to left)\n",
    "\n",
    "* 17 -> Lambda or Switch Expression (right to left)"
   ]
  },
  {
   "cell_type": "code",
   "execution_count": null,
   "metadata": {
    "vscode": {
     "languageId": "plaintext"
    }
   },
   "outputs": [],
   "source": []
  }
 ],
 "metadata": {
  "language_info": {
   "name": "python"
  }
 },
 "nbformat": 4,
 "nbformat_minor": 2
}
