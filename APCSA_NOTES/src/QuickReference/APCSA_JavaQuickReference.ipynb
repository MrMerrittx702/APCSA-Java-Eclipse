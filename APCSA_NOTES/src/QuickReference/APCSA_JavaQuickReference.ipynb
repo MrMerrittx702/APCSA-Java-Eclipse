{
 "cells": [
  {
   "cell_type": "markdown",
   "metadata": {},
   "source": [
    "# APCSA Java Quick Reference"
   ]
  },
  {
   "cell_type": "markdown",
   "metadata": {},
   "source": [
    "## String Class"
   ]
  },
  {
   "cell_type": "markdown",
   "metadata": {},
   "source": [
    "* String()\n",
    "* length()\n",
    "* substring()\n",
    "* indexOf()\n",
    "* equals()\n",
    "* compareTo()"
   ]
  },
  {
   "cell_type": "markdown",
   "metadata": {},
   "source": [
    "**String(String str)**\n",
    "* Constructs a new String object that represents the same sequence of characters as str"
   ]
  },
  {
   "cell_type": "code",
   "execution_count": null,
   "metadata": {
    "vscode": {
     "languageId": "java"
    }
   },
   "outputs": [],
   "source": [
    "String str = new String(\"Hello World\");"
   ]
  },
  {
   "cell_type": "markdown",
   "metadata": {},
   "source": [
    "**int length()**\n",
    "* Returns the number of characters in a String object"
   ]
  },
  {
   "cell_type": "code",
   "execution_count": null,
   "metadata": {
    "vscode": {
     "languageId": "java"
    }
   },
   "outputs": [],
   "source": [
    "\"Hello World\".length(); //Returns: 11\n",
    "\n",
    "String str = new String(\"Hello World\");\n",
    "str.length(); //Returns: 11"
   ]
  },
  {
   "cell_type": "markdown",
   "metadata": {},
   "source": [
    "**String substring(int from, int to)**\n",
    "* Returns the substring beginning at index from and ending at index to - 1"
   ]
  },
  {
   "cell_type": "code",
   "execution_count": null,
   "metadata": {
    "vscode": {
     "languageId": "java"
    }
   },
   "outputs": [],
   "source": [
    "\"Hello World\".substring(3,8); //Returns: lo Wo\n",
    "\n",
    "String str = new String(\"Hello World\");\n",
    "str.substring(3,8); // Returns: lo Wo"
   ]
  },
  {
   "cell_type": "markdown",
   "metadata": {},
   "source": [
    "**String substring(int from)**\n",
    "* Returns substring(from, length())"
   ]
  },
  {
   "cell_type": "code",
   "execution_count": null,
   "metadata": {
    "vscode": {
     "languageId": "java"
    }
   },
   "outputs": [],
   "source": [
    "\"Hello World\".substring(6); //Returns: World\n",
    "\n",
    "String str = new String(\"Hello World\");\n",
    "str.substring(6); // Returns: World"
   ]
  },
  {
   "cell_type": "markdown",
   "metadata": {},
   "source": [
    "**int indexOf(String str)**\n",
    "* Returns the index of the first occurrence of str\n",
    "* Returns -1 if not found"
   ]
  },
  {
   "cell_type": "code",
   "execution_count": null,
   "metadata": {
    "vscode": {
     "languageId": "java"
    }
   },
   "outputs": [],
   "source": [
    "\"Hello World\".indexOf(\"l\"); //Returns: 2\n",
    "\n",
    "String str = new String(\"Hello World\");\n",
    "str.indexOf(\"l\"); // Returns: 2"
   ]
  },
  {
   "cell_type": "markdown",
   "metadata": {},
   "source": [
    "**boolean equals(String other)**\n",
    "* Returns true if this is equal to other\n",
    "* Returns false otherwise"
   ]
  },
  {
   "cell_type": "code",
   "execution_count": null,
   "metadata": {
    "vscode": {
     "languageId": "java"
    }
   },
   "outputs": [],
   "source": [
    "\"Hello World\".equals(\"hello world\"); //Returns: false\n",
    "\n",
    "String str = new String(\"Hello World\");\n",
    "str == \"Hello World\" // Returns: false\n",
    "str.equals(\"Hello World\"); //Returns: true"
   ]
  },
  {
   "cell_type": "markdown",
   "metadata": {},
   "source": [
    "**int compareTo(String other)**\n",
    "* Returns a value < 0 if this is less than other\n",
    "* Returns zero if this is equal to other\n",
    "* Returns a value > 0 if this is greater than other\n",
    "\n",
    "* '0' == 48\n",
    "* 'A' == 65\n",
    "* 'a' == 97"
   ]
  },
  {
   "cell_type": "code",
   "execution_count": null,
   "metadata": {
    "vscode": {
     "languageId": "java"
    }
   },
   "outputs": [],
   "source": [
    "\"a\".compareTo(\"b\") // Returns: -1\n",
    "\"b\".compareTo(\"a\") // Returns: 1\n",
    "\n",
    "String first = \"cat\"\n",
    "String second = \"cow\"\n",
    "\n",
    "first.compareTo(second) //Returns:  -14  \n",
    "/* 'a' == 97 'o' == 111  thus 97 - 111 == -14 */\n",
    "\n",
    "second.compareTo(first) // Returns: 14\n",
    "/* 'a' == 97 'o' == 111  thus 111 - 97 == 14 */"
   ]
  },
  {
   "cell_type": "markdown",
   "metadata": {},
   "source": [
    "## Integer Class"
   ]
  },
  {
   "cell_type": "markdown",
   "metadata": {},
   "source": [
    "* Integer.MIN_VALUE\n",
    "* Integer.MAX_VALUE\n",
    "* Integer()\n",
    "* int intValue()"
   ]
  },
  {
   "cell_type": "markdown",
   "metadata": {},
   "source": [
    "**Integer.MIN_VALUE**\n",
    "* Returns the minimum possible integer value\n",
    "* -(2^31) --> -2,147,483,648"
   ]
  },
  {
   "cell_type": "code",
   "execution_count": null,
   "metadata": {
    "vscode": {
     "languageId": "java"
    }
   },
   "outputs": [],
   "source": [
    "Integer.MIN_VALUE; // Returns: -2,147,483,648"
   ]
  },
  {
   "cell_type": "markdown",
   "metadata": {},
   "source": [
    "**Integer.MAX_VALUE**\n",
    "* Returns the maximum possible integer value\n",
    "* (2^31)-1 --> 2,147,483,647"
   ]
  },
  {
   "cell_type": "code",
   "execution_count": null,
   "metadata": {
    "vscode": {
     "languageId": "java"
    }
   },
   "outputs": [],
   "source": [
    "Integer.MAX_VALUE; // Returns: 2,147,483,647"
   ]
  },
  {
   "cell_type": "markdown",
   "metadata": {},
   "source": [
    "**Integer(int value)**\n",
    "* Constructs a new Integer instance that represents a specified int value\n",
    "* The constructor Integer(int) has been deprecated since version 9 and marked for removal"
   ]
  },
  {
   "cell_type": "code",
   "execution_count": null,
   "metadata": {
    "vscode": {
     "languageId": "java"
    }
   },
   "outputs": [],
   "source": [
    "Integer num = new Integer(10);"
   ]
  },
  {
   "cell_type": "markdown",
   "metadata": {},
   "source": [
    "**int integerValue()**\n",
    "* Returns the value of this Integer as an int"
   ]
  },
  {
   "cell_type": "code",
   "execution_count": null,
   "metadata": {
    "vscode": {
     "languageId": "java"
    }
   },
   "outputs": [],
   "source": [
    "Integer num = new Integer(10);\n",
    "num.integerValue(); // Returns: 10 as a int (primitive)"
   ]
  },
  {
   "cell_type": "markdown",
   "metadata": {},
   "source": [
    "## Double Class"
   ]
  },
  {
   "cell_type": "markdown",
   "metadata": {},
   "source": [
    "* Double()\n",
    "* doubleValue()"
   ]
  },
  {
   "cell_type": "markdown",
   "metadata": {},
   "source": [
    "**Double(double value)**\n",
    "* Constructs a new Double object that represents the specified double value\n",
    "\n",
    "* The constructor Double(double) has been deprecated since version 9 and marked for removal"
   ]
  },
  {
   "cell_type": "code",
   "execution_count": null,
   "metadata": {
    "vscode": {
     "languageId": "java"
    }
   },
   "outputs": [],
   "source": [
    "Double dou = new Double(3.14);"
   ]
  },
  {
   "cell_type": "markdown",
   "metadata": {},
   "source": [
    "**double doubleValue()**\n",
    "* Returns the value of this Double as a double"
   ]
  },
  {
   "cell_type": "code",
   "execution_count": null,
   "metadata": {
    "vscode": {
     "languageId": "java"
    }
   },
   "outputs": [],
   "source": [
    "Double dou = new Double(3.14);\n",
    "dou.doubleValue(); // Returns: 3.14 as a double (primitive)"
   ]
  },
  {
   "cell_type": "markdown",
   "metadata": {},
   "source": [
    "## Math Class"
   ]
  },
  {
   "cell_type": "markdown",
   "metadata": {},
   "source": [
    "* abs()\n",
    "* pow()\n",
    "* sqrt()\n",
    "* random()"
   ]
  },
  {
   "cell_type": "markdown",
   "metadata": {},
   "source": [
    "**static int abs(int x)**\n",
    "* Returns the absolute value of an int value"
   ]
  },
  {
   "cell_type": "code",
   "execution_count": null,
   "metadata": {
    "vscode": {
     "languageId": "java"
    }
   },
   "outputs": [],
   "source": [
    "Math.abs(-2); // Returns: 2"
   ]
  },
  {
   "cell_type": "markdown",
   "metadata": {},
   "source": [
    "**static double abs(double x)**\n",
    "* Returns the absolute value of a double value"
   ]
  },
  {
   "cell_type": "code",
   "execution_count": null,
   "metadata": {
    "vscode": {
     "languageId": "java"
    }
   },
   "outputs": [],
   "source": [
    "Math.abs(-2); // Returns: 2.0\n",
    "Math.abs(-2.0); // Returns: 2.0"
   ]
  },
  {
   "cell_type": "markdown",
   "metadata": {},
   "source": [
    "**static double pow(double base, double exponent)**\n",
    "* Returns the value of the first parameter raised to the power of the second parameter"
   ]
  },
  {
   "cell_type": "code",
   "execution_count": null,
   "metadata": {
    "vscode": {
     "languageId": "java"
    }
   },
   "outputs": [],
   "source": [
    "Math.pow(10,2); // Returns: 100.0"
   ]
  },
  {
   "cell_type": "markdown",
   "metadata": {},
   "source": [
    "**static double sqrt(double x)**\n",
    "* Returns the positive square root of a double value"
   ]
  },
  {
   "cell_type": "code",
   "execution_count": null,
   "metadata": {
    "vscode": {
     "languageId": "java"
    }
   },
   "outputs": [],
   "source": [
    "Math.sqrt(25); // Returns: 5.0"
   ]
  },
  {
   "cell_type": "markdown",
   "metadata": {},
   "source": [
    "**static double random()**\n",
    "* Returns a double value greater than or equal to 0.0 and less than 1.0"
   ]
  },
  {
   "cell_type": "code",
   "execution_count": null,
   "metadata": {
    "vscode": {
     "languageId": "java"
    }
   },
   "outputs": [],
   "source": [
    "Math.random(); // Returns a value 0.0 <= num < 1.0"
   ]
  },
  {
   "cell_type": "markdown",
   "metadata": {},
   "source": [
    "**Random Range Algorithm**"
   ]
  },
  {
   "cell_type": "markdown",
   "metadata": {},
   "source": [
    "* Max is a Positive Value"
   ]
  },
  {
   "cell_type": "code",
   "execution_count": null,
   "metadata": {
    "vscode": {
     "languageId": "java"
    }
   },
   "outputs": [],
   "source": [
    "(int)(Math.random() * (max - min + 1) + min);"
   ]
  },
  {
   "cell_type": "markdown",
   "metadata": {},
   "source": [
    "* Max is a Negative Value"
   ]
  },
  {
   "cell_type": "code",
   "execution_count": null,
   "metadata": {
    "vscode": {
     "languageId": "java"
    }
   },
   "outputs": [],
   "source": [
    "(int)(Math.random() * (max - min) + min);"
   ]
  },
  {
   "cell_type": "markdown",
   "metadata": {},
   "source": [
    "## ArrayList Class"
   ]
  },
  {
   "cell_type": "markdown",
   "metadata": {},
   "source": [
    "must import java.util.ArrayList\n",
    "\n",
    "* size() \n",
    "* add()\n",
    "* get()\n",
    "* set()\n",
    "* remove()"
   ]
  },
  {
   "cell_type": "markdown",
   "metadata": {},
   "source": [
    "**int size()**\n",
    "* Returns the number of elements in the ArrayList"
   ]
  },
  {
   "cell_type": "code",
   "execution_count": null,
   "metadata": {
    "vscode": {
     "languageId": "java"
    }
   },
   "outputs": [],
   "source": [
    "ArrayList<String> list = new ArrayList<>();\n",
    "list.add(\"one\");\n",
    "list.add(\"two\");\n",
    "list.add(\"three\");\n",
    "\n",
    "list.size(); //Returns: 3"
   ]
  },
  {
   "cell_type": "markdown",
   "metadata": {},
   "source": [
    "**boolean add(E obj)**\n",
    "* Appends obj to the end of the list\n",
    "* Returns true"
   ]
  },
  {
   "cell_type": "code",
   "execution_count": null,
   "metadata": {
    "vscode": {
     "languageId": "java"
    }
   },
   "outputs": [],
   "source": [
    "ArrayList<String> list = new ArrayList<>();\n",
    "list.add(\"one\");\n",
    "list.add(\"two\");\n",
    "list.add(\"three\");"
   ]
  },
  {
   "cell_type": "markdown",
   "metadata": {},
   "source": [
    "**void add(int index, E obj)**\n",
    "* Inserts obj at position index (0 <= index <= size). moving elements at position index and higher to the right (adds 1 to their indices) and adds 1 to size\n"
   ]
  },
  {
   "cell_type": "code",
   "execution_count": null,
   "metadata": {
    "vscode": {
     "languageId": "java"
    }
   },
   "outputs": [],
   "source": [
    "ArrayList<String> list = new ArrayList<>();\n",
    "list.add(\"one\");\n",
    "list.add(\"two\");\n",
    "list.add(\"three\");\n",
    "\n",
    "list.add(0,\"zero\");\n",
    "\n",
    "/* {\"zero\", \"one\", \"two\", \"three\"} */\n",
    "/*    0       1      2        3"
   ]
  },
  {
   "cell_type": "markdown",
   "metadata": {},
   "source": [
    "**E get(int index)**\n",
    "* returns the element at position index in the list"
   ]
  },
  {
   "cell_type": "code",
   "execution_count": null,
   "metadata": {
    "vscode": {
     "languageId": "java"
    }
   },
   "outputs": [],
   "source": [
    "ArrayList<String> list = new ArrayList<>();\n",
    "list.add(\"one\");\n",
    "list.add(\"two\");\n",
    "list.add(\"three\");\n",
    "\n",
    "list.get(0); // Returns: one\n",
    "list.get(1); // Returns: two\n",
    "list.get(2); // Returns: three"
   ]
  },
  {
   "cell_type": "markdown",
   "metadata": {},
   "source": [
    "**E set(int index, E obj)**\n",
    "* Replaces the element at position index with obj \n",
    "* Returns the element formerly at position index"
   ]
  },
  {
   "cell_type": "code",
   "execution_count": null,
   "metadata": {
    "vscode": {
     "languageId": "java"
    }
   },
   "outputs": [],
   "source": [
    "ArrayList<String> list = new ArrayList<>();\n",
    "list.add(\"one\");\n",
    "list.add(\"two\");\n",
    "list.add(\"three\");\n",
    "\n",
    "list.set(1, \"four\") //Returns: two\n",
    "// {\"one\", \"four\",\"three\"}\n",
    "//    0      1       2"
   ]
  },
  {
   "cell_type": "markdown",
   "metadata": {},
   "source": [
    "**E remove(int index)**\n",
    "* Removes element from position index\n",
    "* shifts elements at index + 1 and higher to the left  \n",
    "    (subtracts 1 from their current index) and subtracts 1 from size\n",
    "    \n",
    "* Returns the element formerly at position index"
   ]
  },
  {
   "cell_type": "code",
   "execution_count": null,
   "metadata": {
    "vscode": {
     "languageId": "java"
    }
   },
   "outputs": [],
   "source": [
    "ArrayList<String> list = new ArrayList<>();\n",
    "list.add(\"one\");\n",
    "list.add(\"two\");\n",
    "list.add(\"three\");\n",
    "\n",
    "list.remove(1) //Returns: two\n",
    "// {\"one\", \"three\"}\n",
    "//    0      1    "
   ]
  },
  {
   "cell_type": "markdown",
   "metadata": {},
   "source": [
    "## Object Class"
   ]
  },
  {
   "cell_type": "markdown",
   "metadata": {},
   "source": [
    "**equals()**\n",
    "* the equals() method is typically overriden in classes\n",
    "* equals() is used to define what makes one instance equal to another instance of the same class"
   ]
  },
  {
   "cell_type": "code",
   "execution_count": null,
   "metadata": {
    "vscode": {
     "languageId": "java"
    }
   },
   "outputs": [],
   "source": [
    "boolean equals(Object other){\n",
    "    /**implementation varies per class. This is the Object class implementation*/\n",
    "    return (this == obj);\n",
    "}"
   ]
  },
  {
   "cell_type": "markdown",
   "metadata": {},
   "source": [
    "**toString()**\n",
    "* The toString() method is typically overriden in classes\n",
    "* toString() is used to define the string representation of an instance"
   ]
  },
  {
   "cell_type": "code",
   "execution_count": null,
   "metadata": {
    "vscode": {
     "languageId": "java"
    }
   },
   "outputs": [],
   "source": [
    "public String toString(){\n",
    "    /** implementation varies per class. This is the Object class implementation */\n",
    "    return getClass().getName() + \"@\" + Integer.toHexString(hashCode());\n",
    "}"
   ]
  }
 ],
 "metadata": {
  "language_info": {
   "name": "python"
  }
 },
 "nbformat": 4,
 "nbformat_minor": 2
}
