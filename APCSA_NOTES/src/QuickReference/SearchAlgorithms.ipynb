{
 "cells": [
  {
   "cell_type": "markdown",
   "metadata": {
    "vscode": {
     "languageId": "java"
    }
   },
   "source": [
    "# Search Algorithms\n",
    "* Linear Search\n",
    "* Binary Search"
   ]
  },
  {
   "cell_type": "markdown",
   "metadata": {},
   "source": [
    "## Linear Search\n",
    "* iterates through each element until it finds the searched element\n",
    "* returns the index of the searched elem"
   ]
  },
  {
   "cell_type": "code",
   "execution_count": null,
   "metadata": {
    "vscode": {
     "languageId": "java"
    }
   },
   "outputs": [],
   "source": [
    "public class LinearSearch {\n",
    "\n",
    "    /**Accepts and array */\n",
    "    public static int linearSearch(int[] numbers, int searchedElement){\n",
    "        for (int spot = 0; spot < numbers.length; spot++){\n",
    "            if(numbers[spot] == searchedElement){\n",
    "                System.out.print(searchedElement + \" found at index: \" + spot);\n",
    "                return spot;\n",
    "            }\n",
    "        }\n",
    "\n",
    "        System.out.print(searchedElement + \" not found: returned \");\n",
    "        return -1; //returning -1 is a convention in search algorithms.\n",
    "    }\n",
    "    \n",
    "}"
   ]
  },
  {
   "cell_type": "code",
   "execution_count": null,
   "metadata": {
    "vscode": {
     "languageId": "java"
    }
   },
   "outputs": [],
   "source": [
    "import java.util.ArrayList;\n",
    "public class LinearSearch {\n",
    "\n",
    "    /**Accepts an ArrayList */\n",
    "    public static int linearSearch(ArrayList<Integer> numbers, int searchedElement){\n",
    "        for (int spot = 0; spot < numbers.size(); spot++){\n",
    "            if(numbers.get(spot) == searchedElement){\n",
    "                System.out.print(searchedElement + \" found at index: \" + spot);\n",
    "                return spot;\n",
    "            }\n",
    "        }\n",
    "\n",
    "        System.out.print(searchedElement + \" not found: returned \");\n",
    "        return -1; //returning -1 is a convention in search algorithms.\n",
    "    }\n",
    "    \n",
    "}"
   ]
  },
  {
   "cell_type": "markdown",
   "metadata": {},
   "source": [
    "## Binary Search\n",
    "* only works with pre sorted arrays and ArrayLists\n",
    "* Looks at the middle index, then splits the array into two halves."
   ]
  },
  {
   "cell_type": "code",
   "execution_count": null,
   "metadata": {
    "vscode": {
     "languageId": "java"
    }
   },
   "outputs": [],
   "source": [
    "/**Iterative Binary Search */\n",
    "private static int iterBinSearch(int[] array, int searchedElement){//iterative binary search\n",
    "    int startIndex = 0;\n",
    "    int endIndex = array.length -1;\n",
    "\n",
    "    while (startIndex <= endIndex){\n",
    "        int middleIndex = (startIndex + endIndex) / 2;//divide array in half\n",
    "\n",
    "        if(array[middleIndex] == searchedElement){//check if the middle value is the searched value\n",
    "            System.out.println(\"Iterative Binary Search: \\n\" + searchedElement + \" found at index: \" + middleIndex);\n",
    "            return middleIndex;\n",
    "\n",
    "        }\n",
    "        else if(array[middleIndex] < searchedElement){//check if value is larger than the middle value\n",
    "            startIndex = middleIndex + 1;\n",
    "\n",
    "        }\n",
    "        else if (array[middleIndex] > searchedElement){//check if value is smaller than the middle value\n",
    "            endIndex = middleIndex -1;\n",
    "        }\n",
    "    }\n",
    "    System.out.println(\"Iterative Binary Search: \\n\" + searchedElement + \"not found\");\n",
    "    return -1;//value not found\n",
    "}\n"
   ]
  },
  {
   "cell_type": "code",
   "execution_count": null,
   "metadata": {
    "vscode": {
     "languageId": "java"
    }
   },
   "outputs": [],
   "source": [
    "/**Recursive Binary Search */\n",
    "private static int recurBinSearch(int[] array, int startIndex, int endIndex, int searchedElement){\n",
    "    //end case (avoid infinite recursion!!!)\n",
    "    if (endIndex >= startIndex){\n",
    "        int middleIndex = startIndex + (endIndex - startIndex)/2;//divide array in half\n",
    "\n",
    "        if (array[middleIndex] == searchedElement){//check if middle value is the searched value\n",
    "            System.out.println(\"Recursive Binary Search: \\n\" + searchedElement + \" found at index: \" + middleIndex);\n",
    "            return middleIndex;\n",
    "        }\n",
    "\n",
    "        if (array[middleIndex] > searchedElement){//check if the middle value is larger than the searched element\n",
    "            //recursive call of search from first index to the middle index - 1(first half) (original array)\n",
    "            return recurBinSearch(array, startIndex, middleIndex - 1, searchedElement); \n",
    "        }\n",
    "        //else recursive call of search from middle index + 1 to the last index (second half) (original array)\n",
    "        return recurBinSearch(array, middleIndex + 1, endIndex, searchedElement);\n",
    "    }\n",
    "    System.out.println(\"Recursive Binary Search: \\n\" +searchedElement + \"not found\");\n",
    "    return -1; //value not found\n",
    "}\n",
    "\n"
   ]
  }
 ],
 "metadata": {
  "language_info": {
   "name": "python"
  }
 },
 "nbformat": 4,
 "nbformat_minor": 2
}
