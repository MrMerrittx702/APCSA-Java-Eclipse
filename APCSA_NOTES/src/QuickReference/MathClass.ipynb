{
 "cells": [
  {
   "cell_type": "markdown",
   "metadata": {},
   "source": [
    "# The Math Class"
   ]
  },
  {
   "cell_type": "markdown",
   "metadata": {},
   "source": [
    "#### Public Math Class Attributes\n",
    "* PI\n",
    "* E : euler's number"
   ]
  },
  {
   "cell_type": "code",
   "execution_count": null,
   "metadata": {
    "vscode": {
     "languageId": "java"
    }
   },
   "outputs": [],
   "source": [
    "Math.PI // Returns: 3.141592653589793\n",
    "Math.E // Returns: 2.718281828459045"
   ]
  },
  {
   "cell_type": "markdown",
   "metadata": {},
   "source": [
    "## Math Class Methods\n",
    "* Methods on the quick reference\n",
    "    * .abs()\n",
    "    * .pow() \n",
    "    * .sqrt()\n",
    "    * .random()\n",
    "\n",
    "* Other Math Class Methods to know\n",
    "    * .max()\n",
    "    * .min()"
   ]
  },
  {
   "cell_type": "code",
   "execution_count": null,
   "metadata": {
    "vscode": {
     "languageId": "java"
    }
   },
   "outputs": [],
   "source": [
    "// static int abs(int x)\n",
    "// Returns the absolute value of an int value\n",
    "\n",
    "Math.abs(-6) // Returns: 6\n"
   ]
  },
  {
   "cell_type": "code",
   "execution_count": null,
   "metadata": {
    "vscode": {
     "languageId": "java"
    }
   },
   "outputs": [],
   "source": [
    "// static double abs(double x)\n",
    "// Returns the absolute value of an int value\n",
    "\n",
    "Math.abs(-2.17) // Returns: 2.17"
   ]
  },
  {
   "cell_type": "code",
   "execution_count": null,
   "metadata": {
    "vscode": {
     "languageId": "java"
    }
   },
   "outputs": [],
   "source": [
    "// static double pow(double base, double exponent)\n",
    "// Returns a value of the first parameter raised to the power of the second parameter.\n",
    "Math.pow(2,3)// Returns: 8.0\n",
    "\n",
    "Math.pow(2.0,3.0) // Returns: 8.0"
   ]
  },
  {
   "cell_type": "code",
   "execution_count": null,
   "metadata": {
    "vscode": {
     "languageId": "java"
    }
   },
   "outputs": [],
   "source": [
    "// static double sqrt(double x)\n",
    "// returns the positive square root of a double value\n",
    "\n",
    "Math.sqrt(25) //Returns: 5.0\n",
    "\n",
    "Math.sqrt(25.0) //Returns: 5.0"
   ]
  },
  {
   "cell_type": "code",
   "execution_count": null,
   "metadata": {
    "vscode": {
     "languageId": "java"
    }
   },
   "outputs": [],
   "source": [
    "// static double random()\n",
    "// Returns a double value greater than or equal to 0.0 and less than 1.0\n",
    "\n",
    "Math.random()// Returns a value from 0.0 inclusive to 1.0 exclusive"
   ]
  },
  {
   "cell_type": "markdown",
   "metadata": {},
   "source": [
    "**Random Range Algorithm**"
   ]
  },
  {
   "cell_type": "markdown",
   "metadata": {},
   "source": [
    "* Max is a positive value"
   ]
  },
  {
   "cell_type": "code",
   "execution_count": null,
   "metadata": {
    "vscode": {
     "languageId": "java"
    }
   },
   "outputs": [],
   "source": [
    "(int)(Math.random() * (max-min + 1) + min)"
   ]
  },
  {
   "cell_type": "markdown",
   "metadata": {},
   "source": [
    "* Max is a negative value"
   ]
  },
  {
   "cell_type": "code",
   "execution_count": null,
   "metadata": {
    "vscode": {
     "languageId": "java"
    }
   },
   "outputs": [],
   "source": [
    "(int)(Math.random() * (max-min) + min)"
   ]
  },
  {
   "cell_type": "markdown",
   "metadata": {},
   "source": [
    "* The code below simulates the range of possibe random values from Math.random() given a min and a max"
   ]
  },
  {
   "cell_type": "code",
   "execution_count": null,
   "metadata": {
    "vscode": {
     "languageId": "java"
    }
   },
   "outputs": [],
   "source": [
    "public static void randomRange(int min, int max){\n",
    "\n",
    "    //simulates possible random values from Math.random 0 - 0.999999999999999.\n",
    "    double[] array = {0,0.000000000000001,0.1,0.2,0.3,0.4,0.5,0.6,0.7,0.8,0.9,0.999999999999999};\n",
    "\n",
    "    if ((max < 0) && (min < 0)){\n",
    "      System.out.println(\"Two negatives\");\n",
    "      for (int i = 0; i<array.length; i ++){\n",
    "        System.out.print((int)((array[i]) * (max-min) + min) + \", \"); //Math.random() is replaced by array[i] here\n",
    "        //> Algorithm: (int) (Math.random() * (max - min) + min)\n",
    "      } \n",
    "\n",
    "    } else {\n",
    "      System.out.println(\"Two positive or One positive, One Negative\");\n",
    "      for (int i = 0; i<array.length; i ++){\n",
    "        System.out.print((int)((array[i]) * ((max-min)+1) + min) + \", \"); //Math.random() is replaced by array[i] here\n",
    "        //> Algorithm: (int) (Math.random() * (max - min + 1) + min)\n",
    "      }\n",
    "    }\n",
    "}"
   ]
  }
 ],
 "metadata": {
  "language_info": {
   "name": "python"
  }
 },
 "nbformat": 4,
 "nbformat_minor": 2
}
